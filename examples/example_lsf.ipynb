{
 "cells": [
  {
   "cell_type": "markdown",
   "id": "00fc5d49",
   "metadata": {},
   "source": [
    "# Example: measuring a LSF and path losses\n",
    "\n",
    "This notebook demonstrates how to compute a line spread function for a Sersic profile. We'll also get path losses for free!  \n",
    "We will assume a \"standard\" NIRSpec observing setup, i.e. we will open three shutters to form a slit, and use a 3-point dither."
   ]
  },
  {
   "cell_type": "markdown",
   "id": "40a7403c",
   "metadata": {},
   "source": [
    "Let's start by defining our model. We need to set up a configuration dictionary that will hold all the parameters that we need. We can create a dictionary with some default values (these are arbitrarily chosen!). We can then view the defaults and edit only the parameters that we care about."
   ]
  },
  {
   "cell_type": "code",
   "execution_count": 12,
   "id": "eba59df2",
   "metadata": {},
   "outputs": [
    {
     "name": "stdout",
     "output_type": "stream",
     "text": [
      "dict_keys(['geometry', 'instrument', 'morph', 'vfield', 'grid']) \n",
      "\n",
      "params['morph']= [{'profile': 'sersic', 'flux': 1.0, 'x0': 0.0, 'y0': 0.0, 'x0_sky': None, 'y0_sky': None, 'r_e': 0.3, 'n': 1.0, 'q': 0.6, 'PA': 90.0}]\n",
      "\n",
      "params['geometry']= {'quadrant': 3, 'shutter_i': 183, 'shutter_j': 85, 'shutter_array': '1x3', 'source_shutter': 0, 'psky_x': 0.268, 'psky_y': 0.53}\n"
     ]
    }
   ],
   "source": [
    "from msafit.model.config import get_default_config\n",
    "\n",
    "params = get_default_config()\n",
    "\n",
    "# let's inspect the parameters\n",
    "print(params.keys(),'\\n')\n",
    "print(\"params['morph']=\", params[\"morph\"])\n",
    "print(\"\\nparams['geometry']=\", params[\"geometry\"])"
   ]
  },
  {
   "cell_type": "markdown",
   "id": "e459c6a3",
   "metadata": {},
   "source": [
    "To set up our morphological model, we need to change params[\"morph\"]. This is a list of dictionaries (in this case, only one), as we can in principle add multiple morphological components. \n",
    "\n",
    "We'll change these parameters so that the flux of our Sersic profile integrates to 1 (you'll see why later) and give the source some offset within the shutter. Note that x0 and y0 here are in units of **pitch**, not arcsec, and defined with respect to the centre of the source shutter (not necessarily the middle shutter!). If you want to define your shutter offset in arcsec, you will need to set \"x0_sky\" and \"y0_sky\" keywords. Finally, let's also change the size, Sersic index and axis ratio for fun.\n",
    "\n",
    "We will use the default parameters in params[\"geometry\"]: this describes the quadrant, shutter (i,j), and the shutter configuration. I.e. 1x3 shutters in our case in quadrant 3, (i=183,j=85), and we will assume the object is in the middle shutter of these 3: source_shutter = 0. The parameters psky_x and psky_y describe the plate scale, the default values are the average of all shutters from Ferruit et al. (2022)."
   ]
  },
  {
   "cell_type": "code",
   "execution_count": 23,
   "id": "ec891cc1",
   "metadata": {},
   "outputs": [],
   "source": [
    "params[\"morph\"][0][\"profile\"] = \"sersic\"  # specify the profile\n",
    "params[\"morph\"][0][\"flux\"] = 1.           # integrated flux of the Sersic profile\n",
    "params[\"morph\"][0][\"x0\"] = 0.0            # offset in dispersion direction (pitch, not arcsec)\n",
    "params[\"morph\"][0][\"y0\"] = 0.2            # offset in cross-dispersion direction (pitch, not arcsec)\n",
    "params[\"morph\"][0][\"r_e\"] = 0.3           # this is in arcsec\n",
    "params[\"morph\"][0][\"n\"] = 1.5             # Sersic index\n",
    "params[\"morph\"][0][\"q\"] = 0.4             # axis ratio\n",
    "params[\"morph\"][0][\"PA\"] = 90             # rotation angle wrt positive x-axis \n",
    "                                          # (note: differs from e.g. the galfit default)"
   ]
  },
  {
   "cell_type": "markdown",
   "id": "39a8064f",
   "metadata": {},
   "source": [
    "We can now construct our model. As we only want to know the effect of the light profile on the LSF, we will use a model from the MorphOnly set of models. The options are Point, Sersic, Gauss, and UniformIllum. We want a Sersic profile, so we take the Sersic model class.\n",
    "\n",
    "The model is evaluated for some wavelength grid. We also place this wavelength grid in our parameter dict."
   ]
  },
  {
   "cell_type": "code",
   "execution_count": 24,
   "id": "ca8088ae",
   "metadata": {},
   "outputs": [],
   "source": [
    "import numpy as np\n",
    "from msafit.model import Sersic\n",
    "\n",
    "\n",
    "wave_grid = np.arange(1.7,3.3,0.1)*1e4    # this needs to be in AA\n",
    "params[\"grid\"][\"wave_grid\"] = wave_grid\n",
    "\n",
    "# create a model cube I(x,y,lambda)\n",
    "model = Sersic(params)\n",
    "model.compute(wave_grid)\n"
   ]
  },
  {
   "cell_type": "code",
   "execution_count": 26,
   "id": "36143411",
   "metadata": {},
   "outputs": [
    {
     "data": {
      "image/png": "[encoded data removed]",
      "text/plain": [
       "<Figure size 640x480 with 1 Axes>"
      ]
     },
     "metadata": {},
     "output_type": "display_data"
    },
    {
     "name": "stdout",
     "output_type": "stream",
     "text": [
      "total flux 0.8211974823298771\n"
     ]
    }
   ],
   "source": [
    "# now plot a slice of the cube\n",
    "\n",
    "import matplotlib.pyplot as plt\n",
    "\n",
    "extent = [np.min(params[\"grid\"][\"x_grid_sky\"]),np.max(params[\"grid\"][\"x_grid_sky\"]),\n",
    "         np.min(params[\"grid\"][\"y_grid_sky\"]),np.max(params[\"grid\"][\"y_grid_sky\"])]\n",
    "plt.imshow(model.data[0],origin='lower',extent=extent)\n",
    "plt.xlabel('[arcsec]')\n",
    "plt.ylabel('[arcsec]')\n",
    "plt.tight_layout()\n",
    "plt.show()\n",
    "\n",
    "print('total flux', np.sum(model.data[0]))\n"
   ]
  },
  {
   "cell_type": "markdown",
   "id": "a45d5b0f",
   "metadata": {},
   "source": [
    "Next, we need to convolve our model with the NIRSpec PSF. We can read in a pre-existing library to do so.\n",
    "\n",
    "We'll choose the F170LP/G235M filter/disperser combination. Our library holds PSFs that are oversampled by a factor 5."
   ]
  },
  {
   "cell_type": "code",
   "execution_count": 16,
   "id": "d327ac53",
   "metadata": {},
   "outputs": [],
   "source": [
    "from msafit.fpa.psf import PSFLib\n",
    "import os\n",
    "\n",
    "filt = \"F170LP\"\n",
    "disp = \"G235M\"\n",
    "\n",
    "params[\"instrument\"][\"filter\"] = \"F170LP\"\n",
    "params[\"instrument\"][\"disperser\"] = \"G235M\"\n",
    "params[\"instrument\"][\"psf_oversampling\"] = 5\n",
    "\n",
    "psf_path = os.path.expandvars(\"${msa_refdata}\")+f\"/psf/psf_libs/1x3_{filt}_{disp}_3_183_85_PSFlib.fits\"\n",
    "psf_lib = PSFLib(fname=psf_path)\n",
    "\n"
   ]
  },
  {
   "cell_type": "markdown",
   "id": "e4c3e197",
   "metadata": {},
   "source": [
    "We now have all the ingredients to put our source on the detector. If we set return_fluxes=True we will also measure the total flux on the detector per wavelength slice. Because we set our total flux=1 this means we directly get the throughput (or, 1-path_losses).\n",
    "\n",
    "As expected, the throughput decreases with wavelength."
   ]
  },
  {
   "cell_type": "code",
   "execution_count": 27,
   "id": "06289382",
   "metadata": {},
   "outputs": [
    {
     "name": "stdout",
     "output_type": "stream",
     "text": [
      "\n",
      "total flux on detector: [0.42703186 0.42383115 0.42050969 0.41708361 0.41353224 0.40986942\n",
      " 0.40615109 0.40243841 0.39874071 0.39502803 0.39128488 0.38751324\n",
      " 0.38371783 0.37990651 0.37607284 0.37221253]\n"
     ]
    }
   ],
   "source": [
    "from msafit.fpa import Spec2D\n",
    "\n",
    "spec = Spec2D(params,pad_y=10)\n",
    "throughput = spec.make_spec2d(model,psf_lib,wave_thresh=1e2,return_fluxes=True,rotate_slit=False)\n",
    "\n",
    "print(\"\\ntotal flux on detector:\",throughput)\n"
   ]
  },
  {
   "cell_type": "markdown",
   "id": "97e712e2",
   "metadata": {},
   "source": [
    "Some warnings were printed to inform us of wavelengths that fall in the chip gap. \n",
    "\n",
    "We can now plot the detectors, and zoom in on some of the individual emission lines.\n"
   ]
  },
  {
   "cell_type": "code",
   "execution_count": 18,
   "id": "3566c387",
   "metadata": {},
   "outputs": [
    {
     "data": {
      "image/png": "[encoded data removed]",
      "text/plain": [
       "<Figure size 640x480 with 1 Axes>"
      ]
     },
     "metadata": {},
     "output_type": "display_data"
    },
    {
     "data": {
      "image/png": "[encoded data removed]",
      "text/plain": [
       "<Figure size 640x480 with 1 Axes>"
      ]
     },
     "metadata": {},
     "output_type": "display_data"
    }
   ],
   "source": [
    "# let's plot some of detector SCA-491 \n",
    "\n",
    "plt.imshow(spec.spec_491[:,0:250],origin='lower')\n",
    "plt.axis('off')\n",
    "plt.show()\n",
    "\n",
    "plt.imshow(spec.spec_491[:,190:230],origin='lower')\n",
    "plt.axis('off')\n",
    "plt.show()"
   ]
  },
  {
   "cell_type": "markdown",
   "id": "f675dfd0",
   "metadata": {},
   "source": [
    "We can now repeat this for the other two dithers, and then collapse our set of spectra to compute the LSF. The latter steps are all handled in the LSF class. (Note that any 1D spectra created in the process are **not** real 1D spectra, as there is no wavelength calibration nor regridding)"
   ]
  },
  {
   "cell_type": "code",
   "execution_count": 10,
   "id": "0b1507c3",
   "metadata": {},
   "outputs": [],
   "source": [
    "from msafit.lsf import LSF\n",
    "from copy import deepcopy\n",
    "\n",
    "params_2 = deepcopy(params)\n",
    "params_2[\"geometry\"][\"shutter_j\"] = params[\"geometry\"][\"shutter_j\"] - 1\n",
    "params_2[\"geometry\"][\"source_shutter\"] = -1\n",
    "spec_2 = Spec2D(params_2,pad_y=10)\n",
    "spec_2.make_spec2d(model,psf_lib,rotate_slit=False)\n",
    "    \n",
    "params_3 = deepcopy(params)\n",
    "params_3[\"geometry\"][\"shutter_j\"] = params[\"geometry\"][\"shutter_j\"] + 1\n",
    "params_3[\"geometry\"][\"source_shutter\"] = 1\n",
    "spec_3 = Spec2D(params_3,pad_y=10)\n",
    "spec_3.make_spec2d(model,psf_lib,rotate_slit=False)\n",
    "\n",
    "# we provide our 3 dithers to the LSF class\n",
    "# we only provide the wavelengths of interest and corresponding x FPA coordinates once\n",
    "lsf = LSF([spec,spec_2,spec_3],spec.wl_fpa,spec.x_fpa)\n",
    "fit_output = lsf.compute_lsf()"
   ]
  },
  {
   "cell_type": "markdown",
   "id": "548d16d9",
   "metadata": {},
   "source": [
    "The fit_output can be used for plotting. More important is that we can now estimate the LSF anywhere! (at least, anywhere within the wavelength range we defined earlier)"
   ]
  },
  {
   "cell_type": "code",
   "execution_count": 11,
   "id": "17ab3988",
   "metadata": {},
   "outputs": [
    {
     "name": "stdout",
     "output_type": "stream",
     "text": [
      "resolution at 2.52 micron = 1554.5091674941975\n",
      "dispersion at 1.78 micron = 118.005066390039 km/s\n"
     ]
    }
   ],
   "source": [
    "print('resolution at 2.52 micron =', lsf.resolution(2.52e4))\n",
    "print('dispersion at 1.78 micron =', lsf.dispersion_kms(1.78e4), 'km/s')\n"
   ]
  },
  {
   "cell_type": "code",
   "execution_count": null,
   "id": "fa6b9a0d",
   "metadata": {},
   "outputs": [],
   "source": [
    "from msafit.lsf.fit_func import gauss_dataset\n",
    "from matplotlib.ticker import AutoMinorLocator\n",
    "\n",
    "x1d,spec1d = spec.to_1d()\n",
    "\n",
    "model_1d = gauss_dataset(fit_output[0].params,0,len(lsf.wl_fpa),x1d)\n",
    "\n",
    "\n",
    "fig,ax = plt.subplots(1,1,figsize=(10,3.5))\n",
    "\n",
    "ax.plot(x1d,spec1d,color='k',ls='solid',label='spectrum')\n",
    "ax.plot(x1d,model_1d,color='C1',ls='--',label='LSF model')\n",
    "ax.set_xlabel(r\"detector x [m]\",fontsize=12)\n",
    "ax.set_ylabel(r\"flux\",fontsize=12)\n",
    "ax.xaxis.set_minor_locator(AutoMinorLocator())\n",
    "ax.yaxis.set_minor_locator(AutoMinorLocator())\t\t\n",
    "ax.tick_params(direction='in',which='both',top=True,right=True)\n",
    "ax.locator_params(nbins=6)\n",
    "ax.legend(fontsize=9)\n",
    "plt.tight_layout()\n",
    "plt.show()\n",
    "\n",
    "\n",
    "fig,ax = plt.subplots(1,1,figsize=(4,4))\n",
    "\n",
    "ax.plot(x1d[100:130],spec1d[100:130],color='k',ls='solid',label='spectrum')\n",
    "ax.plot(x1d[100:130],model_1d[100:130],color='C1',ls='--',label='LSF model')\n",
    "ax.set_xlabel(r\"detector x [m]\",fontsize=12)\n",
    "ax.set_ylabel(r\"flux\",fontsize=12)\n",
    "ax.xaxis.set_minor_locator(AutoMinorLocator())\n",
    "ax.yaxis.set_minor_locator(AutoMinorLocator())\t\t\n",
    "ax.tick_params(direction='in',which='both',top=True,right=True)\n",
    "ax.locator_params(nbins=6)\n",
    "ax.legend(fontsize=9)\n",
    "plt.tight_layout()\n",
    "plt.show()"
   ]
  },
  {
   "cell_type": "markdown",
   "id": "17618287",
   "metadata": {},
   "source": [
    "Finally, let's compare with what STScI tells us... (https://jwst-docs.stsci.edu/jwst-near-infrared-spectrograph/nirspec-instrumentation/nirspec-dispersers-and-filters)\n",
    "\n",
    "Quite different!"
   ]
  },
  {
   "cell_type": "code",
   "execution_count": null,
   "id": "1773bfbb",
   "metadata": {},
   "outputs": [],
   "source": [
    "from astropy.table import Table\n",
    "from scipy.interpolate import interp1d\n",
    "\n",
    "disp_curve_stsci = Table.read(f'./data/jwst_nirspec_{disp.lower()}_disp.fits')\n",
    "fdisp = interp1d(disp_curve_stsci['WAVELENGTH'],disp_curve_stsci['R'],kind='cubic')\n",
    "wrange = np.arange(1.7,3.1,0.025)*1e4\n",
    "\n",
    "fig,ax = plt.subplots(1,2,figsize=(7,3.3))\n",
    "\n",
    "ax[0].plot(wrange*1e-4,lsf.resolution(wrange),color='C0',ls='--',label='point source')\n",
    "ax[0].plot(wrange*1e-4,fdisp(wrange*1e-4),color='k',ls='solid',label='nominal resolution')\n",
    "ax[0].set_xlabel(r\"wavelength [micron]\",fontsize=12)\n",
    "ax[0].set_ylabel(r\"resolution\",fontsize=12)\n",
    "ax[0].set_ylim(500,2500)\n",
    "ax[0].xaxis.set_minor_locator(AutoMinorLocator())\n",
    "ax[0].yaxis.set_minor_locator(AutoMinorLocator())\t\t\n",
    "ax[0].tick_params(direction='in',which='both',top=True,right=True)\n",
    "ax[0].locator_params(nbins=6)\n",
    "\n",
    "\n",
    "ax[1].plot(wrange*1e-4,2*np.sqrt(2*np.log(2)) *lsf.dispersion_kms(wrange),color='C0',ls='--',label='point source')\n",
    "ax[1].plot(wrange*1e-4,3e5/(fdisp(wrange*1e-4)),color='k',ls='solid',label='nominal resolution')\n",
    "ax[1].set_xlabel(r\"wavelength [micron]\",fontsize=12)\n",
    "ax[1].set_ylabel(r\"FWHM [$\\rm km\\,s^{-1}$]\",fontsize=12)\n",
    "ax[1].set_ylim(125,450)\n",
    "ax[1].xaxis.set_minor_locator(AutoMinorLocator())\n",
    "ax[1].yaxis.set_minor_locator(AutoMinorLocator())\t\t\n",
    "ax[1].tick_params(direction='in',which='both',top=True,right=True)\n",
    "ax[1].locator_params(nbins=6)\n",
    "ax[1].legend(fontsize=9)\n",
    "\n",
    "plt.tight_layout()\n",
    "plt.show()"
   ]
  }
 ],
 "metadata": {
  "kernelspec": {
   "display_name": "Python 3 (ipykernel)",
   "language": "python",
   "name": "python3"
  },
  "language_info": {
   "codemirror_mode": {
    "name": "ipython",
    "version": 3
   },
   "file_extension": ".py",
   "mimetype": "text/x-python",
   "name": "python",
   "nbconvert_exporter": "python",
   "pygments_lexer": "ipython3",
   "version": "3.10.9"
  }
 },
 "nbformat": 4,
 "nbformat_minor": 5
}
